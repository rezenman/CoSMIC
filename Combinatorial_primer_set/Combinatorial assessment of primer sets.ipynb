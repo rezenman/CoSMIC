{
 "cells": [
  {
   "cell_type": "code",
   "execution_count": 1,
   "id": "fd550d8e",
   "metadata": {},
   "outputs": [],
   "source": [
    "import pandas as pd\n",
    "import os\n",
    "from scipy.stats import pearsonr\n",
    "import matplotlib.pyplot as plt\n"
   ]
  },
  {
   "cell_type": "code",
   "execution_count": 2,
   "id": "a32c7122",
   "metadata": {},
   "outputs": [
    {
     "name": "stdout",
     "output_type": "stream",
     "text": [
      "['1', '2', '3', '4', '5', '6', '1_2', '1_3', '1_4', '1_5', '1_6', '2_3', '2_4', '2_5', '2_6', '3_4', '3_5', '3_6', '4_5', '4_6', '5_6', '1_2_3', '1_2_4', '1_2_5', '1_2_6', '1_3_4', '1_3_5', '1_3_6', '1_4_5', '1_4_6', '1_5_6', '2_3_4', '2_3_5', '2_3_6', '2_4_5', '2_4_6', '2_5_6', '3_4_5', '3_4_6', '3_5_6', '4_5_6', '1_2_3_4', '1_2_3_5', '1_2_3_6', '1_2_4_5', '1_2_4_6', '1_2_5_6', '1_3_4_5', '1_3_4_6', '1_3_5_6', '1_4_5_6', '2_3_4_5', '2_3_4_6', '2_3_5_6', '2_4_5_6', '3_4_5_6', '1_2_3_4_5', '1_2_3_4_6', '1_2_3_5_6', '1_2_4_5_6', '1_3_4_5_6', '2_3_4_5_6', '1_2_3_4_5_6']\n"
     ]
    }
   ],
   "source": [
    "import itertools\n",
    "\n",
    "regions = ['1', '2', '3', '4', '5', '6']\n",
    "combinations = []\n",
    "\n",
    "for r in range(1, len(regions) + 1):\n",
    "    combinations.extend(['_'.join(i) for i in itertools.combinations(regions, r)])\n",
    "\n",
    "print(combinations)\n"
   ]
  },
  {
   "cell_type": "code",
   "execution_count": 4,
   "id": "a4f40795",
   "metadata": {},
   "outputs": [],
   "source": [
    "import pandas as pd\n",
    "import os\n",
    "from scipy.stats import pearsonr\n",
    "import itertools\n",
    "import numpy as np\n",
    "# Define the base directory\n",
    "base_dir = \"res_RL150/\"\n",
    "\n",
    "# Define the full combination\n",
    "full_combination = \"1_2_3_4_5_6\"\n",
    "\n",
    "# Generate all combinations\n",
    "regions = ['1', '2', '3', '4', '5', '6']\n",
    "combinations = []\n",
    "\n",
    "for r in range(1, len(regions) + 1):\n",
    "    combinations.extend(['_'.join(i) for i in itertools.combinations(regions, r)])\n",
    "\n",
    "# Create a DataFrame to store the results\n",
    "results_df = pd.DataFrame(columns=['sample_number', 'region_combination', 'mutual_taxonomy', 'pearson_corr', 'num_regions'])\n",
    "\n",
    "# Loop over samples\n",
    "for sample_num in range(1, 25):  # assuming there are 24 samples\n",
    "\n",
    "    # Define the full combination file name\n",
    "    full_comb_file_name = \"Reich_Qiagen_read_len_150_REGIONS_{0}_HardDecision_Freq_ResultsSummary_SPECIES_cutFreq0.txt\".format(full_combination)\n",
    "\n",
    "    # Define the full path to the file\n",
    "    full_comb_file_path = os.path.join(base_dir, full_comb_file_name)\n",
    "\n",
    "    # Load the full combination data\n",
    "    full_comb_data = pd.read_csv(full_comb_file_path, sep=\"\\t\", skiprows=1)\n",
    "    full_comb_data['Taxonomy'] = full_comb_data[['domain','phylum','class','order','family','genus','species']].apply(lambda x: '_'.join(x), axis=1)\n",
    "\n",
    "    for comb in combinations:\n",
    "\n",
    "        full_sample_column = 'qiagen_read_len_150_REGIONS_{0}/{1}'.format(full_combination, sample_num)\n",
    "        Full_comp = full_comb_data[[full_sample_column, 'Taxonomy']]\n",
    "        Full_comp = Full_comp[Full_comp[full_sample_column] > 0]  # Removing 0\n",
    "\n",
    "        partial_comb_file_name = \"Reich_Qiagen_read_len_150_REGIONS_{0}_HardDecision_Freq_ResultsSummary_SPECIES_cutFreq0.txt\".format(comb)\n",
    "        partial_comb_file_path = os.path.join(base_dir, partial_comb_file_name)\n",
    "        partial_comb_data = pd.read_csv(partial_comb_file_path, sep=\"\\t\", skiprows=1)\n",
    "        partial_comb_data['Taxonomy'] = partial_comb_data[['domain','phylum','class','order','family','genus','species']].apply(lambda x: '_'.join(x), axis=1)\n",
    "\n",
    "        partial_sample_column = 'qiagen_read_len_150_REGIONS_{0}/{1}'.format(comb, sample_num)\n",
    "        relavent_data = partial_comb_data[[partial_sample_column, 'Taxonomy']]\n",
    "        relavent_data = relavent_data[relavent_data[partial_sample_column] > 0]  # Removing 0\n",
    "\n",
    "        merged_data = pd.merge(Full_comp, relavent_data, on='Taxonomy', how='inner')\n",
    "\n",
    "        # Calculations\n",
    "        mutual_taxonomy = len(merged_data) / len(Full_comp)\n",
    "\n",
    "        if comb == full_combination:\n",
    "            pearson_corr = 1.0\n",
    "        else:\n",
    "            pearson_corr = pearsonr(merged_data[full_sample_column], merged_data[partial_sample_column])[0] if len(merged_data) > 1 else np.nan\n",
    "\n",
    "\n",
    "        num_regions = len(comb.split('_'))\n",
    "\n",
    "        # Append results to the DataFrame\n",
    "        new_row = pd.DataFrame({\n",
    "            'sample_number': [sample_num],\n",
    "            'region_combination': [comb],\n",
    "            'mutual_taxonomy': [mutual_taxonomy],\n",
    "            'pearson_corr': [pearson_corr],\n",
    "            'num_regions': [num_regions]\n",
    "        })\n",
    "        results_df = pd.concat([results_df, new_row], ignore_index=True)\n",
    "        results_df['num_regions'] = results_df['num_regions'].astype(int)"
   ]
  },
  {
   "cell_type": "code",
   "execution_count": 5,
   "id": "6abf2e47",
   "metadata": {},
   "outputs": [
    {
     "data": {
      "text/html": [
       "<div>\n",
       "<style scoped>\n",
       "    .dataframe tbody tr th:only-of-type {\n",
       "        vertical-align: middle;\n",
       "    }\n",
       "\n",
       "    .dataframe tbody tr th {\n",
       "        vertical-align: top;\n",
       "    }\n",
       "\n",
       "    .dataframe thead th {\n",
       "        text-align: right;\n",
       "    }\n",
       "</style>\n",
       "<table border=\"1\" class=\"dataframe\">\n",
       "  <thead>\n",
       "    <tr style=\"text-align: right;\">\n",
       "      <th></th>\n",
       "      <th>sample_number</th>\n",
       "      <th>region_combination</th>\n",
       "      <th>mutual_taxonomy</th>\n",
       "      <th>pearson_corr</th>\n",
       "      <th>num_regions</th>\n",
       "    </tr>\n",
       "  </thead>\n",
       "  <tbody>\n",
       "    <tr>\n",
       "      <th>0</th>\n",
       "      <td>1</td>\n",
       "      <td>1</td>\n",
       "      <td>0.277778</td>\n",
       "      <td>0.990483</td>\n",
       "      <td>1</td>\n",
       "    </tr>\n",
       "    <tr>\n",
       "      <th>1</th>\n",
       "      <td>1</td>\n",
       "      <td>2</td>\n",
       "      <td>0.355556</td>\n",
       "      <td>0.902456</td>\n",
       "      <td>1</td>\n",
       "    </tr>\n",
       "    <tr>\n",
       "      <th>2</th>\n",
       "      <td>1</td>\n",
       "      <td>3</td>\n",
       "      <td>0.333333</td>\n",
       "      <td>0.923687</td>\n",
       "      <td>1</td>\n",
       "    </tr>\n",
       "    <tr>\n",
       "      <th>3</th>\n",
       "      <td>1</td>\n",
       "      <td>4</td>\n",
       "      <td>0.359259</td>\n",
       "      <td>0.963318</td>\n",
       "      <td>1</td>\n",
       "    </tr>\n",
       "    <tr>\n",
       "      <th>4</th>\n",
       "      <td>1</td>\n",
       "      <td>5</td>\n",
       "      <td>0.292593</td>\n",
       "      <td>0.967780</td>\n",
       "      <td>1</td>\n",
       "    </tr>\n",
       "    <tr>\n",
       "      <th>...</th>\n",
       "      <td>...</td>\n",
       "      <td>...</td>\n",
       "      <td>...</td>\n",
       "      <td>...</td>\n",
       "      <td>...</td>\n",
       "    </tr>\n",
       "    <tr>\n",
       "      <th>1507</th>\n",
       "      <td>24</td>\n",
       "      <td>1_2_3_5_6</td>\n",
       "      <td>0.843373</td>\n",
       "      <td>0.925339</td>\n",
       "      <td>5</td>\n",
       "    </tr>\n",
       "    <tr>\n",
       "      <th>1508</th>\n",
       "      <td>24</td>\n",
       "      <td>1_2_4_5_6</td>\n",
       "      <td>0.879518</td>\n",
       "      <td>0.957792</td>\n",
       "      <td>5</td>\n",
       "    </tr>\n",
       "    <tr>\n",
       "      <th>1509</th>\n",
       "      <td>24</td>\n",
       "      <td>1_3_4_5_6</td>\n",
       "      <td>0.879518</td>\n",
       "      <td>0.732790</td>\n",
       "      <td>5</td>\n",
       "    </tr>\n",
       "    <tr>\n",
       "      <th>1510</th>\n",
       "      <td>24</td>\n",
       "      <td>2_3_4_5_6</td>\n",
       "      <td>0.879518</td>\n",
       "      <td>0.964239</td>\n",
       "      <td>5</td>\n",
       "    </tr>\n",
       "    <tr>\n",
       "      <th>1511</th>\n",
       "      <td>24</td>\n",
       "      <td>1_2_3_4_5_6</td>\n",
       "      <td>1.000000</td>\n",
       "      <td>1.000000</td>\n",
       "      <td>6</td>\n",
       "    </tr>\n",
       "  </tbody>\n",
       "</table>\n",
       "<p>1512 rows × 5 columns</p>\n",
       "</div>"
      ],
      "text/plain": [
       "     sample_number region_combination  mutual_taxonomy  pearson_corr  \\\n",
       "0                1                  1         0.277778      0.990483   \n",
       "1                1                  2         0.355556      0.902456   \n",
       "2                1                  3         0.333333      0.923687   \n",
       "3                1                  4         0.359259      0.963318   \n",
       "4                1                  5         0.292593      0.967780   \n",
       "...            ...                ...              ...           ...   \n",
       "1507            24          1_2_3_5_6         0.843373      0.925339   \n",
       "1508            24          1_2_4_5_6         0.879518      0.957792   \n",
       "1509            24          1_3_4_5_6         0.879518      0.732790   \n",
       "1510            24          2_3_4_5_6         0.879518      0.964239   \n",
       "1511            24        1_2_3_4_5_6         1.000000      1.000000   \n",
       "\n",
       "      num_regions  \n",
       "0               1  \n",
       "1               1  \n",
       "2               1  \n",
       "3               1  \n",
       "4               1  \n",
       "...           ...  \n",
       "1507            5  \n",
       "1508            5  \n",
       "1509            5  \n",
       "1510            5  \n",
       "1511            6  \n",
       "\n",
       "[1512 rows x 5 columns]"
      ]
     },
     "execution_count": 5,
     "metadata": {},
     "output_type": "execute_result"
    }
   ],
   "source": [
    "results_df"
   ]
  },
  {
   "cell_type": "code",
   "execution_count": 6,
   "id": "ecd202b8",
   "metadata": {},
   "outputs": [],
   "source": [
    "from Bio import SeqIO\n",
    "import glob\n",
    "\n",
    "# Define the base directory\n",
    "base_dir = \"E:/Microbiome_Fig2/seq_RL150\"\n",
    "\n",
    "# Define the new column in the dataframe\n",
    "results_df['Ambiguity'] = 0\n",
    "\n",
    "# For each row in the dataframe, access the corresponding fasta files and count the headers\n",
    "for index, row in results_df.iterrows():\n",
    "    comb = row['region_combination']\n",
    "    sample_num = row['sample_number']\n",
    "\n",
    "    # Define the path to the sample folder\n",
    "    sample_folder = os.path.join(base_dir, \"seq_Maor_150_REGIONS_{0}\".format(comb), \"qiagen_read_len_150_REGIONS_{0}_s_{1}\".format(comb, sample_num))\n",
    "\n",
    "    # Get a list of all the fasta files in the sample folder\n",
    "    fasta_files = glob.glob(os.path.join(sample_folder, \"*.fa\"))\n",
    "\n",
    "    if not fasta_files:  # Check if the list is empty\n",
    "        print(f\"No fasta files found in directory {sample_folder}\")\n",
    "        continue  # Skip to the next iteration\n",
    "\n",
    "    # Count the total number of headers across all fasta files\n",
    "    total_headers = sum(len(list(SeqIO.parse(fasta_file, \"fasta\"))) for fasta_file in fasta_files)\n",
    "\n",
    "    # Update the 'Ambiguity' column in the dataframe for this row\n",
    "    results_df.loc[index, 'Ambiguity'] = total_headers\n",
    "results_df.to_csv('results_df.csv')"
   ]
  },
  {
   "cell_type": "code",
   "execution_count": 16,
   "id": "ca6242f8",
   "metadata": {},
   "outputs": [
    {
     "data": {
      "text/html": [
       "<div>\n",
       "<style scoped>\n",
       "    .dataframe tbody tr th:only-of-type {\n",
       "        vertical-align: middle;\n",
       "    }\n",
       "\n",
       "    .dataframe tbody tr th {\n",
       "        vertical-align: top;\n",
       "    }\n",
       "\n",
       "    .dataframe thead th {\n",
       "        text-align: right;\n",
       "    }\n",
       "</style>\n",
       "<table border=\"1\" class=\"dataframe\">\n",
       "  <thead>\n",
       "    <tr style=\"text-align: right;\">\n",
       "      <th></th>\n",
       "      <th>sample_number</th>\n",
       "      <th>region_combination</th>\n",
       "      <th>mutual_taxonomy</th>\n",
       "      <th>pearson_corr</th>\n",
       "      <th>num_regions</th>\n",
       "      <th>Ambiguity</th>\n",
       "      <th>tissue</th>\n",
       "    </tr>\n",
       "  </thead>\n",
       "  <tbody>\n",
       "    <tr>\n",
       "      <th>0</th>\n",
       "      <td>1</td>\n",
       "      <td>1</td>\n",
       "      <td>0.277778</td>\n",
       "      <td>0.990483</td>\n",
       "      <td>1</td>\n",
       "      <td>7060</td>\n",
       "      <td>S</td>\n",
       "    </tr>\n",
       "    <tr>\n",
       "      <th>1</th>\n",
       "      <td>1</td>\n",
       "      <td>2</td>\n",
       "      <td>0.355556</td>\n",
       "      <td>0.902456</td>\n",
       "      <td>1</td>\n",
       "      <td>89552</td>\n",
       "      <td>S</td>\n",
       "    </tr>\n",
       "    <tr>\n",
       "      <th>2</th>\n",
       "      <td>1</td>\n",
       "      <td>3</td>\n",
       "      <td>0.333333</td>\n",
       "      <td>0.923687</td>\n",
       "      <td>1</td>\n",
       "      <td>116565</td>\n",
       "      <td>S</td>\n",
       "    </tr>\n",
       "    <tr>\n",
       "      <th>3</th>\n",
       "      <td>1</td>\n",
       "      <td>4</td>\n",
       "      <td>0.359259</td>\n",
       "      <td>0.963318</td>\n",
       "      <td>1</td>\n",
       "      <td>144151</td>\n",
       "      <td>S</td>\n",
       "    </tr>\n",
       "    <tr>\n",
       "      <th>4</th>\n",
       "      <td>1</td>\n",
       "      <td>5</td>\n",
       "      <td>0.292593</td>\n",
       "      <td>0.967780</td>\n",
       "      <td>1</td>\n",
       "      <td>108092</td>\n",
       "      <td>S</td>\n",
       "    </tr>\n",
       "    <tr>\n",
       "      <th>...</th>\n",
       "      <td>...</td>\n",
       "      <td>...</td>\n",
       "      <td>...</td>\n",
       "      <td>...</td>\n",
       "      <td>...</td>\n",
       "      <td>...</td>\n",
       "      <td>...</td>\n",
       "    </tr>\n",
       "    <tr>\n",
       "      <th>1507</th>\n",
       "      <td>24</td>\n",
       "      <td>1_2_3_5_6</td>\n",
       "      <td>0.843373</td>\n",
       "      <td>0.925339</td>\n",
       "      <td>5</td>\n",
       "      <td>456</td>\n",
       "      <td>R</td>\n",
       "    </tr>\n",
       "    <tr>\n",
       "      <th>1508</th>\n",
       "      <td>24</td>\n",
       "      <td>1_2_4_5_6</td>\n",
       "      <td>0.879518</td>\n",
       "      <td>0.957792</td>\n",
       "      <td>5</td>\n",
       "      <td>361</td>\n",
       "      <td>R</td>\n",
       "    </tr>\n",
       "    <tr>\n",
       "      <th>1509</th>\n",
       "      <td>24</td>\n",
       "      <td>1_3_4_5_6</td>\n",
       "      <td>0.879518</td>\n",
       "      <td>0.732790</td>\n",
       "      <td>5</td>\n",
       "      <td>501</td>\n",
       "      <td>R</td>\n",
       "    </tr>\n",
       "    <tr>\n",
       "      <th>1510</th>\n",
       "      <td>24</td>\n",
       "      <td>2_3_4_5_6</td>\n",
       "      <td>0.879518</td>\n",
       "      <td>0.964239</td>\n",
       "      <td>5</td>\n",
       "      <td>390</td>\n",
       "      <td>R</td>\n",
       "    </tr>\n",
       "    <tr>\n",
       "      <th>1511</th>\n",
       "      <td>24</td>\n",
       "      <td>1_2_3_4_5_6</td>\n",
       "      <td>1.000000</td>\n",
       "      <td>1.000000</td>\n",
       "      <td>6</td>\n",
       "      <td>282</td>\n",
       "      <td>R</td>\n",
       "    </tr>\n",
       "  </tbody>\n",
       "</table>\n",
       "<p>1512 rows × 7 columns</p>\n",
       "</div>"
      ],
      "text/plain": [
       "     sample_number region_combination  mutual_taxonomy  pearson_corr  \\\n",
       "0                1                  1         0.277778      0.990483   \n",
       "1                1                  2         0.355556      0.902456   \n",
       "2                1                  3         0.333333      0.923687   \n",
       "3                1                  4         0.359259      0.963318   \n",
       "4                1                  5         0.292593      0.967780   \n",
       "...            ...                ...              ...           ...   \n",
       "1507            24          1_2_3_5_6         0.843373      0.925339   \n",
       "1508            24          1_2_4_5_6         0.879518      0.957792   \n",
       "1509            24          1_3_4_5_6         0.879518      0.732790   \n",
       "1510            24          2_3_4_5_6         0.879518      0.964239   \n",
       "1511            24        1_2_3_4_5_6         1.000000      1.000000   \n",
       "\n",
       "      num_regions  Ambiguity tissue  \n",
       "0               1       7060      S  \n",
       "1               1      89552      S  \n",
       "2               1     116565      S  \n",
       "3               1     144151      S  \n",
       "4               1     108092      S  \n",
       "...           ...        ...    ...  \n",
       "1507            5        456      R  \n",
       "1508            5        361      R  \n",
       "1509            5        501      R  \n",
       "1510            5        390      R  \n",
       "1511            6        282      R  \n",
       "\n",
       "[1512 rows x 7 columns]"
      ]
     },
     "execution_count": 16,
     "metadata": {},
     "output_type": "execute_result"
    }
   ],
   "source": [
    "# Load the CSV\n",
    "sample_id_df = pd.read_csv('Samples_ID.csv')\n",
    "\n",
    "# Convert dataframe to dictionary\n",
    "sample_id_dict = dict(zip(sample_id_df['Sample in deep seq'], sample_id_df['tissue']))\n",
    "\n",
    "# Create a new column 'tissue' in results_df by mapping the dictionary keys (Sample in deep seq) to the dictionary values (tissue)\n",
    "results_df['tissue'] = results_df['sample_number'].map(sample_id_dict)\n",
    "results_df.to_csv('results_df.csv')\n",
    "results_df"
   ]
  },
  {
   "cell_type": "code",
   "execution_count": 17,
   "id": "b1a15bbc",
   "metadata": {},
   "outputs": [
    {
     "name": "stderr",
     "output_type": "stream",
     "text": [
      "C:\\Users\\Maor\\AppData\\Local\\Temp\\ipykernel_17716\\799024666.py:1: FutureWarning: The default value of numeric_only in DataFrameGroupBy.mean is deprecated. In a future version, numeric_only will default to False. Either specify numeric_only or select only columns which should be valid for the function.\n",
      "  df_comb = results_df.groupby(by='region_combination').mean()\n"
     ]
    },
    {
     "data": {
      "text/html": [
       "<div>\n",
       "<style scoped>\n",
       "    .dataframe tbody tr th:only-of-type {\n",
       "        vertical-align: middle;\n",
       "    }\n",
       "\n",
       "    .dataframe tbody tr th {\n",
       "        vertical-align: top;\n",
       "    }\n",
       "\n",
       "    .dataframe thead th {\n",
       "        text-align: right;\n",
       "    }\n",
       "</style>\n",
       "<table border=\"1\" class=\"dataframe\">\n",
       "  <thead>\n",
       "    <tr style=\"text-align: right;\">\n",
       "      <th></th>\n",
       "      <th>mutual_taxonomy</th>\n",
       "      <th>pearson_corr</th>\n",
       "      <th>num_regions</th>\n",
       "      <th>Ambiguity</th>\n",
       "    </tr>\n",
       "    <tr>\n",
       "      <th>region_combination</th>\n",
       "      <th></th>\n",
       "      <th></th>\n",
       "      <th></th>\n",
       "      <th></th>\n",
       "    </tr>\n",
       "  </thead>\n",
       "  <tbody>\n",
       "    <tr>\n",
       "      <th>1</th>\n",
       "      <td>0.210210</td>\n",
       "      <td>0.786377</td>\n",
       "      <td>1.0</td>\n",
       "      <td>2906.500000</td>\n",
       "    </tr>\n",
       "    <tr>\n",
       "      <th>1_2</th>\n",
       "      <td>0.362108</td>\n",
       "      <td>0.756178</td>\n",
       "      <td>2.0</td>\n",
       "      <td>4273.250000</td>\n",
       "    </tr>\n",
       "    <tr>\n",
       "      <th>1_2_3</th>\n",
       "      <td>0.496877</td>\n",
       "      <td>0.901883</td>\n",
       "      <td>3.0</td>\n",
       "      <td>1897.500000</td>\n",
       "    </tr>\n",
       "    <tr>\n",
       "      <th>1_2_3_4</th>\n",
       "      <td>0.621627</td>\n",
       "      <td>0.982913</td>\n",
       "      <td>4.0</td>\n",
       "      <td>911.625000</td>\n",
       "    </tr>\n",
       "    <tr>\n",
       "      <th>1_2_3_4_5</th>\n",
       "      <td>0.931998</td>\n",
       "      <td>0.994027</td>\n",
       "      <td>5.0</td>\n",
       "      <td>674.083333</td>\n",
       "    </tr>\n",
       "    <tr>\n",
       "      <th>...</th>\n",
       "      <td>...</td>\n",
       "      <td>...</td>\n",
       "      <td>...</td>\n",
       "      <td>...</td>\n",
       "    </tr>\n",
       "    <tr>\n",
       "      <th>4_5_6</th>\n",
       "      <td>0.483884</td>\n",
       "      <td>0.939289</td>\n",
       "      <td>3.0</td>\n",
       "      <td>4903.083333</td>\n",
       "    </tr>\n",
       "    <tr>\n",
       "      <th>4_6</th>\n",
       "      <td>0.333347</td>\n",
       "      <td>0.927946</td>\n",
       "      <td>2.0</td>\n",
       "      <td>7557.708333</td>\n",
       "    </tr>\n",
       "    <tr>\n",
       "      <th>5</th>\n",
       "      <td>0.303941</td>\n",
       "      <td>0.722001</td>\n",
       "      <td>1.0</td>\n",
       "      <td>60184.458333</td>\n",
       "    </tr>\n",
       "    <tr>\n",
       "      <th>5_6</th>\n",
       "      <td>0.350298</td>\n",
       "      <td>0.789115</td>\n",
       "      <td>2.0</td>\n",
       "      <td>21622.458333</td>\n",
       "    </tr>\n",
       "    <tr>\n",
       "      <th>6</th>\n",
       "      <td>0.197401</td>\n",
       "      <td>0.843902</td>\n",
       "      <td>1.0</td>\n",
       "      <td>3503.625000</td>\n",
       "    </tr>\n",
       "  </tbody>\n",
       "</table>\n",
       "<p>63 rows × 4 columns</p>\n",
       "</div>"
      ],
      "text/plain": [
       "                    mutual_taxonomy  pearson_corr  num_regions     Ambiguity\n",
       "region_combination                                                          \n",
       "1                          0.210210      0.786377          1.0   2906.500000\n",
       "1_2                        0.362108      0.756178          2.0   4273.250000\n",
       "1_2_3                      0.496877      0.901883          3.0   1897.500000\n",
       "1_2_3_4                    0.621627      0.982913          4.0    911.625000\n",
       "1_2_3_4_5                  0.931998      0.994027          5.0    674.083333\n",
       "...                             ...           ...          ...           ...\n",
       "4_5_6                      0.483884      0.939289          3.0   4903.083333\n",
       "4_6                        0.333347      0.927946          2.0   7557.708333\n",
       "5                          0.303941      0.722001          1.0  60184.458333\n",
       "5_6                        0.350298      0.789115          2.0  21622.458333\n",
       "6                          0.197401      0.843902          1.0   3503.625000\n",
       "\n",
       "[63 rows x 4 columns]"
      ]
     },
     "execution_count": 17,
     "metadata": {},
     "output_type": "execute_result"
    }
   ],
   "source": [
    "df_comb = results_df.groupby(by='region_combination').mean()\n",
    "\n",
    "df_comb"
   ]
  },
  {
   "cell_type": "code",
   "execution_count": 18,
   "id": "6ba75899",
   "metadata": {},
   "outputs": [
    {
     "data": {
      "image/png": "[encoded data removed]",
      "text/plain": [
       "<Figure size 1000x500 with 1 Axes>"
      ]
     },
     "metadata": {},
     "output_type": "display_data"
    }
   ],
   "source": [
    "import seaborn as sns\n",
    "sns.set_style(\"whitegrid\")\n",
    "# Adjust aspect ratio\n",
    "plt.figure(figsize=(10, 5))\n",
    "\n",
    "sns.lineplot(x='num_regions',y='pearson_corr',data=df_comb,color='b')\n",
    "\n",
    "\n",
    "sns.scatterplot(x='num_regions',y='pearson_corr',data=df_comb,color='r',s=50)\n",
    "plt.xlabel('Number of regions')\n",
    "plt.ylabel('Pearson r')\n",
    "sns.set(font_scale=2.5)\n",
    "# plt.savefig(\"Pearson_corr.pdf\", format='pdf', dpi=300, bbox_inches='tight', transparent=True)\n"
   ]
  },
  {
   "cell_type": "code",
   "execution_count": 19,
   "id": "cc4f9947",
   "metadata": {},
   "outputs": [
    {
     "data": {
      "image/png": "[encoded data removed]",
      "text/plain": [
       "<Figure size 1000x500 with 1 Axes>"
      ]
     },
     "metadata": {},
     "output_type": "display_data"
    }
   ],
   "source": [
    "sns.set_style(\"whitegrid\")\n",
    "# Adjust aspect ratio\n",
    "plt.figure(figsize=(10, 5))\n",
    "\n",
    "sns.lineplot(x='num_regions',y='mutual_taxonomy',data=df_comb,color='b')\n",
    "sns.scatterplot(x='num_regions',y='mutual_taxonomy',data=df_comb,color='r',s=50)\n",
    "plt.xlabel('Number of regions')\n",
    "plt.ylabel('Mutual species')\n",
    "sns.set(font_scale=2.5)\n",
    "# plt.savefig(\"mutual_taxonomy.pdf\", format='pdf', dpi=300, bbox_inches='tight', transparent=True)\n"
   ]
  },
  {
   "cell_type": "code",
   "execution_count": 20,
   "id": "b4233aa4",
   "metadata": {},
   "outputs": [
    {
     "data": {
      "image/png": "[encoded data removed]",
      "text/plain": [
       "<Figure size 1000x500 with 1 Axes>"
      ]
     },
     "metadata": {},
     "output_type": "display_data"
    }
   ],
   "source": [
    "import seaborn as sns\n",
    "import matplotlib.pyplot as plt\n",
    "sns.set_style(\"whitegrid\")\n",
    "plt.figure(figsize=(10, 5))\n",
    "\n",
    "sns.lineplot(x='num_regions', y='Ambiguity', data=df_comb, color='b')\n",
    "sns.scatterplot(x='num_regions', y='Ambiguity', data=df_comb, color='r', s=50)\n",
    "\n",
    "plt.xlabel('Number of regions')\n",
    "plt.ylabel('Ambiguity')\n",
    "\n",
    "# # Use FuncFormatter to format y axis labels to 'k' format\n",
    "# def thousands_format(x, pos):\n",
    "#     'The two args are the value and tick position'\n",
    "#     return '%1.0fk' % (x * 1e-3)\n",
    "\n",
    "# formatter = ticker.FuncFormatter(thousands_format)\n",
    "\n",
    "# plt.gca().yaxis.set_major_formatter(formatter)\n",
    "sns.set(font_scale=2.5)\n",
    "\n",
    "# plt.savefig(\"Ambiguity.pdf\", format='pdf', dpi=300, bbox_inches='tight', transparent=True)\n",
    "plt.show()\n"
   ]
  },
  {
   "cell_type": "code",
   "execution_count": 22,
   "id": "c6d7d499",
   "metadata": {},
   "outputs": [
    {
     "name": "stderr",
     "output_type": "stream",
     "text": [
      "C:\\Users\\Maor\\AppData\\Local\\Temp\\ipykernel_17716\\2976400957.py:10: FutureWarning: The default value of numeric_only in DataFrameGroupBy.mean is deprecated. In a future version, numeric_only will default to False. Either specify numeric_only or select only columns which should be valid for the function.\n",
      "  df_comb = results_df_s.groupby(by='region_combination').mean()\n"
     ]
    },
    {
     "data": {
      "image/png": "[encoded data removed]",
      "text/plain": [
       "<Figure size 1000x500 with 1 Axes>"
      ]
     },
     "metadata": {},
     "output_type": "display_data"
    }
   ],
   "source": [
    "import seaborn as sns\n",
    "import matplotlib.pyplot as plt\n",
    "sns.set_style(\"whitegrid\")\n",
    "\n",
    "# Adjust aspect ratio\n",
    "plt.figure(figsize=(10, 5))\n",
    "\n",
    "results_df_s = results_df[results_df['tissue'] == 'R']\n",
    "\n",
    "df_comb = results_df_s.groupby(by='region_combination').mean()\n",
    "\n",
    "# Convert 'num_regions' column to categorical\n",
    "df_comb['num_regions'] = df_comb['num_regions'].astype('category')\n",
    "\n",
    "# Separate the data into two groups\n",
    "df_comb_x = df_comb[df_comb.index == '1_2_4']\n",
    "df_comb_others = df_comb[df_comb.index != '1_2_4']\n",
    "\n",
    "# Create the scatter plot for all other combinations\n",
    "scatter_others = sns.scatterplot(x='pearson_corr', y='mutual_taxonomy', data=df_comb_others, sizes=(50, 500), hue='num_regions', size='Ambiguity', palette='Set2', edgecolor='black', linewidth=1,marker='s')\n",
    "# Create the scatter plot for the \"1_2_4\" combination\n",
    "scatter_x = sns.scatterplot(x='pearson_corr', y='mutual_taxonomy', data=df_comb_x, color ='#FF4500', marker='X', s=250, edgecolor='black', linewidth=1)\n",
    "\n",
    "# Move the legend outside the plot\n",
    "plt.legend(bbox_to_anchor=(1.05, 1), loc=2, borderaxespad=0.)\n",
    "plt.ylim(0.15,1.05)\n",
    "plt.xlabel('Pearson r')\n",
    "plt.ylabel('Mutual species ratio')\n",
    "\n",
    "sns.set(font_scale=2)\n",
    "plt.savefig(\"Root_comb.pdf\", format='pdf', dpi=300, bbox_inches='tight', transparent=True)\n"
   ]
  },
  {
   "cell_type": "code",
   "execution_count": 35,
   "id": "5cc9ce9e",
   "metadata": {},
   "outputs": [
    {
     "data": {
      "application/vnd.plotly.v1+json": {
       "config": {
        "plotlyServerURL": "https://plot.ly"
       },
       "data": [
        {
         "customdata": [
          [
           "1"
          ],
          [
           "2"
          ],
          [
           "3"
          ],
          [
           "4"
          ],
          [
           "5"
          ],
          [
           "6"
          ]
         ],
         "hovertemplate": "num_regions=1.0<br>pearson_corr=%{x}<br>mutual_taxonomy=%{y}<br>log10_Ambiguity=%{marker.size}<br>region_combination=%{customdata[0]}<extra></extra>",
         "legendgroup": "1.0",
         "marker": {
          "color": "rgb(102,194,165)",
          "line": {
           "color": "DarkSlateGrey",
           "width": 2
          },
          "size": 15,
          "sizemode": "area",
          "sizeref": 0.011642520051085889,
          "symbol": "circle"
         },
         "mode": "markers",
         "name": "1.0",
         "orientation": "v",
         "showlegend": true,
         "type": "scatter",
         "x": [
          0.6566368636536299,
          0.7149933316269919,
          0.7600150874774628,
          0.6176146810892866,
          0.6105085715923209,
          0.7474618139271831
         ],
         "xaxis": "x",
         "y": [
          0.2242547779225569,
          0.41256506756734385,
          0.32786928788923797,
          0.2999469415917051,
          0.2715063058324438,
          0.21253168445273757
         ],
         "yaxis": "y"
        },
        {
         "customdata": [
          [
           "1_2"
          ],
          [
           "1_3"
          ],
          [
           "1_4"
          ],
          [
           "1_5"
          ],
          [
           "1_6"
          ],
          [
           "2_3"
          ],
          [
           "2_4"
          ],
          [
           "2_5"
          ],
          [
           "2_6"
          ],
          [
           "3_4"
          ],
          [
           "3_5"
          ],
          [
           "3_6"
          ],
          [
           "4_5"
          ],
          [
           "4_6"
          ],
          [
           "5_6"
          ]
         ],
         "hovertemplate": "num_regions=2.0<br>pearson_corr=%{x}<br>mutual_taxonomy=%{y}<br>log10_Ambiguity=%{marker.size}<br>region_combination=%{customdata[0]}<extra></extra>",
         "legendgroup": "2.0",
         "marker": {
          "color": "rgb(252,141,98)",
          "line": {
           "color": "DarkSlateGrey",
           "width": 2
          },
          "size": 15,
          "sizemode": "area",
          "sizeref": 0.011642520051085889,
          "symbol": "circle"
         },
         "mode": "markers",
         "name": "2.0",
         "orientation": "v",
         "showlegend": true,
         "type": "scatter",
         "x": [
          0.7291486623637307,
          0.8987800500564913,
          0.810877674332028,
          0.9084989015320022,
          0.846964241380994,
          0.8875674288936538,
          0.9344945012090736,
          0.7902825019388384,
          0.847149463285897,
          0.8668731945067625,
          0.7981185447401564,
          0.7281598944867489,
          0.6688764119697685,
          0.84560726996849,
          0.801505590941438
         ],
         "xaxis": "x",
         "y": [
          0.4530334170852031,
          0.428464752991081,
          0.4162825623423109,
          0.3942878402499497,
          0.33472958626178256,
          0.5286317862383,
          0.5393531229185622,
          0.5567731903370704,
          0.45274928813559445,
          0.5153461718913402,
          0.5167676397567724,
          0.4030885671512795,
          0.44577043870634603,
          0.39386768980865033,
          0.31944409707036914
         ],
         "yaxis": "y"
        },
        {
         "customdata": [
          [
           "1_2_3"
          ],
          [
           "1_2_4"
          ],
          [
           "1_2_5"
          ],
          [
           "1_2_6"
          ],
          [
           "1_3_4"
          ],
          [
           "1_3_5"
          ],
          [
           "1_3_6"
          ],
          [
           "1_4_5"
          ],
          [
           "1_4_6"
          ],
          [
           "1_5_6"
          ],
          [
           "2_3_4"
          ],
          [
           "2_3_5"
          ],
          [
           "2_3_6"
          ],
          [
           "2_4_5"
          ],
          [
           "2_4_6"
          ],
          [
           "2_5_6"
          ],
          [
           "3_4_5"
          ],
          [
           "3_4_6"
          ],
          [
           "3_5_6"
          ],
          [
           "4_5_6"
          ]
         ],
         "hovertemplate": "num_regions=3.0<br>pearson_corr=%{x}<br>mutual_taxonomy=%{y}<br>log10_Ambiguity=%{marker.size}<br>region_combination=%{customdata[0]}<extra></extra>",
         "legendgroup": "3.0",
         "marker": {
          "color": "rgb(141,160,203)",
          "line": {
           "color": "DarkSlateGrey",
           "width": 2
          },
          "size": 15,
          "sizemode": "area",
          "sizeref": 0.011642520051085889,
          "symbol": "circle"
         },
         "mode": "markers",
         "name": "3.0",
         "orientation": "v",
         "showlegend": true,
         "type": "scatter",
         "x": [
          0.9181540017606383,
          0.6855722085453534,
          0.850499990781922,
          0.8900341169067114,
          0.9565480205897312,
          0.9237693586675003,
          0.9080006359809638,
          0.7921026160875645,
          0.9265525378442903,
          0.9121622749591354,
          0.9399432202702256,
          0.9072297626837821,
          0.8559060043146367,
          0.921425804312181,
          0.8544088922284216,
          0.8637329503107247,
          0.9270800926733204,
          0.8299019468679963,
          0.7836671097358023,
          0.8673267415418834
         ],
         "xaxis": "x",
         "y": [
          0.5718941546790507,
          0.5834457043163991,
          0.5945619280346665,
          0.5042815000826024,
          0.5838136852072124,
          0.5678803008165879,
          0.48926551992265943,
          0.5587360128527112,
          0.48497576071002024,
          0.434741621097755,
          0.6422152867718323,
          0.7214916596028055,
          0.5818018021016286,
          0.6746403162627054,
          0.5951056080818766,
          0.589088959840466,
          0.7327112409274262,
          0.5798265365150392,
          0.5473613467399117,
          0.5201041151654615
         ],
         "yaxis": "y"
        },
        {
         "customdata": [
          [
           "1_2_3_4"
          ],
          [
           "1_2_3_5"
          ],
          [
           "1_2_3_6"
          ],
          [
           "1_2_4_5"
          ],
          [
           "1_2_4_6"
          ],
          [
           "1_2_5_6"
          ],
          [
           "1_3_4_5"
          ],
          [
           "1_3_4_6"
          ],
          [
           "1_3_5_6"
          ],
          [
           "1_4_5_6"
          ],
          [
           "2_3_4_5"
          ],
          [
           "2_3_4_6"
          ],
          [
           "2_3_5_6"
          ],
          [
           "2_4_5_6"
          ],
          [
           "3_4_5_6"
          ]
         ],
         "hovertemplate": "num_regions=4.0<br>pearson_corr=%{x}<br>mutual_taxonomy=%{y}<br>log10_Ambiguity=%{marker.size}<br>region_combination=%{customdata[0]}<extra></extra>",
         "legendgroup": "4.0",
         "marker": {
          "color": "rgb(231,138,195)",
          "line": {
           "color": "DarkSlateGrey",
           "width": 2
          },
          "size": 15,
          "sizemode": "area",
          "sizeref": 0.011642520051085889,
          "symbol": "circle"
         },
         "mode": "markers",
         "name": "4.0",
         "orientation": "v",
         "showlegend": true,
         "type": "scatter",
         "x": [
          0.9695753020630328,
          0.9590157019102439,
          0.9372809953686358,
          0.9774543346446025,
          0.9584973488902846,
          0.9566318945875192,
          0.9790851878707333,
          0.9613940452146663,
          0.9351788606974858,
          0.9541500722859092,
          0.9257885156081029,
          0.879213388996299,
          0.865423103871574,
          0.8805677015502253,
          0.864559222469681
         ],
         "xaxis": "x",
         "y": [
          0.7071632350156352,
          0.767877226391486,
          0.6346511405629768,
          0.7303314324919619,
          0.6594011784561932,
          0.6370663915607487,
          0.7868627937745731,
          0.6498454284550086,
          0.6176663057538335,
          0.5946325044605372,
          0.881210073736053,
          0.7217609723371976,
          0.743119154829566,
          0.7111925884832084,
          0.7511929573760041
         ],
         "yaxis": "y"
        },
        {
         "customdata": [
          [
           "1_2_3_4_5"
          ],
          [
           "1_2_3_4_6"
          ],
          [
           "1_2_3_5_6"
          ],
          [
           "1_2_4_5_6"
          ],
          [
           "1_3_4_5_6"
          ],
          [
           "2_3_4_5_6"
          ]
         ],
         "hovertemplate": "num_regions=5.0<br>pearson_corr=%{x}<br>mutual_taxonomy=%{y}<br>log10_Ambiguity=%{marker.size}<br>region_combination=%{customdata[0]}<extra></extra>",
         "legendgroup": "5.0",
         "marker": {
          "color": "rgb(166,216,84)",
          "line": {
           "color": "DarkSlateGrey",
           "width": 2
          },
          "size": 15,
          "sizemode": "area",
          "sizeref": 0.011642520051085889,
          "symbol": "circle"
         },
         "mode": "markers",
         "name": "5.0",
         "orientation": "v",
         "showlegend": true,
         "type": "scatter",
         "x": [
          0.9907667946060824,
          0.9828253882000544,
          0.9664217121488403,
          0.9881322639655593,
          0.9585287288327278,
          0.900009511078329
         ],
         "xaxis": "x",
         "y": [
          0.9233929467173736,
          0.7878099390156986,
          0.7998676452629996,
          0.7831066457755821,
          0.8480519813899275,
          0.9297912177632881
         ],
         "yaxis": "y"
        },
        {
         "customdata": [
          [
           "1_2_3_4_5_6"
          ]
         ],
         "hovertemplate": "num_regions=6.0<br>pearson_corr=%{x}<br>mutual_taxonomy=%{y}<br>log10_Ambiguity=%{marker.size}<br>region_combination=%{customdata[0]}<extra></extra>",
         "legendgroup": "6.0",
         "marker": {
          "color": "rgb(255,217,47)",
          "line": {
           "color": "DarkSlateGrey",
           "width": 2
          },
          "size": 15,
          "sizemode": "area",
          "sizeref": 0.011642520051085889,
          "symbol": "circle"
         },
         "mode": "markers",
         "name": "6.0",
         "orientation": "v",
         "showlegend": true,
         "type": "scatter",
         "x": [
          1
         ],
         "xaxis": "x",
         "y": [
          1
         ],
         "yaxis": "y"
        }
       ],
       "layout": {
        "legend": {
         "itemsizing": "constant",
         "title": {
          "text": "num_regions"
         },
         "tracegroupgap": 0
        },
        "margin": {
         "t": 60
        },
        "template": {
         "data": {
          "bar": [
           {
            "error_x": {
             "color": "#2a3f5f"
            },
            "error_y": {
             "color": "#2a3f5f"
            },
            "marker": {
             "line": {
              "color": "#E5ECF6",
              "width": 0.5
             },
             "pattern": {
              "fillmode": "overlay",
              "size": 10,
              "solidity": 0.2
             }
            },
            "type": "bar"
           }
          ],
          "barpolar": [
           {
            "marker": {
             "line": {
              "color": "#E5ECF6",
              "width": 0.5
             },
             "pattern": {
              "fillmode": "overlay",
              "size": 10,
              "solidity": 0.2
             }
            },
            "type": "barpolar"
           }
          ],
          "carpet": [
           {
            "aaxis": {
             "endlinecolor": "#2a3f5f",
             "gridcolor": "white",
             "linecolor": "white",
             "minorgridcolor": "white",
             "startlinecolor": "#2a3f5f"
            },
            "baxis": {
             "endlinecolor": "#2a3f5f",
             "gridcolor": "white",
             "linecolor": "white",
             "minorgridcolor": "white",
             "startlinecolor": "#2a3f5f"
            },
            "type": "carpet"
           }
          ],
          "choropleth": [
           {
            "colorbar": {
             "outlinewidth": 0,
             "ticks": ""
            },
            "type": "choropleth"
           }
          ],
          "contour": [
           {
            "colorbar": {
             "outlinewidth": 0,
             "ticks": ""
            },
            "colorscale": [
             [
              0,
              "#0d0887"
             ],
             [
              0.1111111111111111,
              "#46039f"
             ],
             [
              0.2222222222222222,
              "#7201a8"
             ],
             [
              0.3333333333333333,
              "#9c179e"
             ],
             [
              0.4444444444444444,
              "#bd3786"
             ],
             [
              0.5555555555555556,
              "#d8576b"
             ],
             [
              0.6666666666666666,
              "#ed7953"
             ],
             [
              0.7777777777777778,
              "#fb9f3a"
             ],
             [
              0.8888888888888888,
              "#fdca26"
             ],
             [
              1,
              "#f0f921"
             ]
            ],
            "type": "contour"
           }
          ],
          "contourcarpet": [
           {
            "colorbar": {
             "outlinewidth": 0,
             "ticks": ""
            },
            "type": "contourcarpet"
           }
          ],
          "heatmap": [
           {
            "colorbar": {
             "outlinewidth": 0,
             "ticks": ""
            },
            "colorscale": [
             [
              0,
              "#0d0887"
             ],
             [
              0.1111111111111111,
              "#46039f"
             ],
             [
              0.2222222222222222,
              "#7201a8"
             ],
             [
              0.3333333333333333,
              "#9c179e"
             ],
             [
              0.4444444444444444,
              "#bd3786"
             ],
             [
              0.5555555555555556,
              "#d8576b"
             ],
             [
              0.6666666666666666,
              "#ed7953"
             ],
             [
              0.7777777777777778,
              "#fb9f3a"
             ],
             [
              0.8888888888888888,
              "#fdca26"
             ],
             [
              1,
              "#f0f921"
             ]
            ],
            "type": "heatmap"
           }
          ],
          "heatmapgl": [
           {
            "colorbar": {
             "outlinewidth": 0,
             "ticks": ""
            },
            "colorscale": [
             [
              0,
              "#0d0887"
             ],
             [
              0.1111111111111111,
              "#46039f"
             ],
             [
              0.2222222222222222,
              "#7201a8"
             ],
             [
              0.3333333333333333,
              "#9c179e"
             ],
             [
              0.4444444444444444,
              "#bd3786"
             ],
             [
              0.5555555555555556,
              "#d8576b"
             ],
             [
              0.6666666666666666,
              "#ed7953"
             ],
             [
              0.7777777777777778,
              "#fb9f3a"
             ],
             [
              0.8888888888888888,
              "#fdca26"
             ],
             [
              1,
              "#f0f921"
             ]
            ],
            "type": "heatmapgl"
           }
          ],
          "histogram": [
           {
            "marker": {
             "pattern": {
              "fillmode": "overlay",
              "size": 10,
              "solidity": 0.2
             }
            },
            "type": "histogram"
           }
          ],
          "histogram2d": [
           {
            "colorbar": {
             "outlinewidth": 0,
             "ticks": ""
            },
            "colorscale": [
             [
              0,
              "#0d0887"
             ],
             [
              0.1111111111111111,
              "#46039f"
             ],
             [
              0.2222222222222222,
              "#7201a8"
             ],
             [
              0.3333333333333333,
              "#9c179e"
             ],
             [
              0.4444444444444444,
              "#bd3786"
             ],
             [
              0.5555555555555556,
              "#d8576b"
             ],
             [
              0.6666666666666666,
              "#ed7953"
             ],
             [
              0.7777777777777778,
              "#fb9f3a"
             ],
             [
              0.8888888888888888,
              "#fdca26"
             ],
             [
              1,
              "#f0f921"
             ]
            ],
            "type": "histogram2d"
           }
          ],
          "histogram2dcontour": [
           {
            "colorbar": {
             "outlinewidth": 0,
             "ticks": ""
            },
            "colorscale": [
             [
              0,
              "#0d0887"
             ],
             [
              0.1111111111111111,
              "#46039f"
             ],
             [
              0.2222222222222222,
              "#7201a8"
             ],
             [
              0.3333333333333333,
              "#9c179e"
             ],
             [
              0.4444444444444444,
              "#bd3786"
             ],
             [
              0.5555555555555556,
              "#d8576b"
             ],
             [
              0.6666666666666666,
              "#ed7953"
             ],
             [
              0.7777777777777778,
              "#fb9f3a"
             ],
             [
              0.8888888888888888,
              "#fdca26"
             ],
             [
              1,
              "#f0f921"
             ]
            ],
            "type": "histogram2dcontour"
           }
          ],
          "mesh3d": [
           {
            "colorbar": {
             "outlinewidth": 0,
             "ticks": ""
            },
            "type": "mesh3d"
           }
          ],
          "parcoords": [
           {
            "line": {
             "colorbar": {
              "outlinewidth": 0,
              "ticks": ""
             }
            },
            "type": "parcoords"
           }
          ],
          "pie": [
           {
            "automargin": true,
            "type": "pie"
           }
          ],
          "scatter": [
           {
            "fillpattern": {
             "fillmode": "overlay",
             "size": 10,
             "solidity": 0.2
            },
            "type": "scatter"
           }
          ],
          "scatter3d": [
           {
            "line": {
             "colorbar": {
              "outlinewidth": 0,
              "ticks": ""
             }
            },
            "marker": {
             "colorbar": {
              "outlinewidth": 0,
              "ticks": ""
             }
            },
            "type": "scatter3d"
           }
          ],
          "scattercarpet": [
           {
            "marker": {
             "colorbar": {
              "outlinewidth": 0,
              "ticks": ""
             }
            },
            "type": "scattercarpet"
           }
          ],
          "scattergeo": [
           {
            "marker": {
             "colorbar": {
              "outlinewidth": 0,
              "ticks": ""
             }
            },
            "type": "scattergeo"
           }
          ],
          "scattergl": [
           {
            "marker": {
             "colorbar": {
              "outlinewidth": 0,
              "ticks": ""
             }
            },
            "type": "scattergl"
           }
          ],
          "scattermapbox": [
           {
            "marker": {
             "colorbar": {
              "outlinewidth": 0,
              "ticks": ""
             }
            },
            "type": "scattermapbox"
           }
          ],
          "scatterpolar": [
           {
            "marker": {
             "colorbar": {
              "outlinewidth": 0,
              "ticks": ""
             }
            },
            "type": "scatterpolar"
           }
          ],
          "scatterpolargl": [
           {
            "marker": {
             "colorbar": {
              "outlinewidth": 0,
              "ticks": ""
             }
            },
            "type": "scatterpolargl"
           }
          ],
          "scatterternary": [
           {
            "marker": {
             "colorbar": {
              "outlinewidth": 0,
              "ticks": ""
             }
            },
            "type": "scatterternary"
           }
          ],
          "surface": [
           {
            "colorbar": {
             "outlinewidth": 0,
             "ticks": ""
            },
            "colorscale": [
             [
              0,
              "#0d0887"
             ],
             [
              0.1111111111111111,
              "#46039f"
             ],
             [
              0.2222222222222222,
              "#7201a8"
             ],
             [
              0.3333333333333333,
              "#9c179e"
             ],
             [
              0.4444444444444444,
              "#bd3786"
             ],
             [
              0.5555555555555556,
              "#d8576b"
             ],
             [
              0.6666666666666666,
              "#ed7953"
             ],
             [
              0.7777777777777778,
              "#fb9f3a"
             ],
             [
              0.8888888888888888,
              "#fdca26"
             ],
             [
              1,
              "#f0f921"
             ]
            ],
            "type": "surface"
           }
          ],
          "table": [
           {
            "cells": {
             "fill": {
              "color": "#EBF0F8"
             },
             "line": {
              "color": "white"
             }
            },
            "header": {
             "fill": {
              "color": "#C8D4E3"
             },
             "line": {
              "color": "white"
             }
            },
            "type": "table"
           }
          ]
         },
         "layout": {
          "annotationdefaults": {
           "arrowcolor": "#2a3f5f",
           "arrowhead": 0,
           "arrowwidth": 1
          },
          "autotypenumbers": "strict",
          "coloraxis": {
           "colorbar": {
            "outlinewidth": 0,
            "ticks": ""
           }
          },
          "colorscale": {
           "diverging": [
            [
             0,
             "#8e0152"
            ],
            [
             0.1,
             "#c51b7d"
            ],
            [
             0.2,
             "#de77ae"
            ],
            [
             0.3,
             "#f1b6da"
            ],
            [
             0.4,
             "#fde0ef"
            ],
            [
             0.5,
             "#f7f7f7"
            ],
            [
             0.6,
             "#e6f5d0"
            ],
            [
             0.7,
             "#b8e186"
            ],
            [
             0.8,
             "#7fbc41"
            ],
            [
             0.9,
             "#4d9221"
            ],
            [
             1,
             "#276419"
            ]
           ],
           "sequential": [
            [
             0,
             "#0d0887"
            ],
            [
             0.1111111111111111,
             "#46039f"
            ],
            [
             0.2222222222222222,
             "#7201a8"
            ],
            [
             0.3333333333333333,
             "#9c179e"
            ],
            [
             0.4444444444444444,
             "#bd3786"
            ],
            [
             0.5555555555555556,
             "#d8576b"
            ],
            [
             0.6666666666666666,
             "#ed7953"
            ],
            [
             0.7777777777777778,
             "#fb9f3a"
            ],
            [
             0.8888888888888888,
             "#fdca26"
            ],
            [
             1,
             "#f0f921"
            ]
           ],
           "sequentialminus": [
            [
             0,
             "#0d0887"
            ],
            [
             0.1111111111111111,
             "#46039f"
            ],
            [
             0.2222222222222222,
             "#7201a8"
            ],
            [
             0.3333333333333333,
             "#9c179e"
            ],
            [
             0.4444444444444444,
             "#bd3786"
            ],
            [
             0.5555555555555556,
             "#d8576b"
            ],
            [
             0.6666666666666666,
             "#ed7953"
            ],
            [
             0.7777777777777778,
             "#fb9f3a"
            ],
            [
             0.8888888888888888,
             "#fdca26"
            ],
            [
             1,
             "#f0f921"
            ]
           ]
          },
          "colorway": [
           "#636efa",
           "#EF553B",
           "#00cc96",
           "#ab63fa",
           "#FFA15A",
           "#19d3f3",
           "#FF6692",
           "#B6E880",
           "#FF97FF",
           "#FECB52"
          ],
          "font": {
           "color": "#2a3f5f"
          },
          "geo": {
           "bgcolor": "white",
           "lakecolor": "white",
           "landcolor": "#E5ECF6",
           "showlakes": true,
           "showland": true,
           "subunitcolor": "white"
          },
          "hoverlabel": {
           "align": "left"
          },
          "hovermode": "closest",
          "mapbox": {
           "style": "light"
          },
          "paper_bgcolor": "white",
          "plot_bgcolor": "#E5ECF6",
          "polar": {
           "angularaxis": {
            "gridcolor": "white",
            "linecolor": "white",
            "ticks": ""
           },
           "bgcolor": "#E5ECF6",
           "radialaxis": {
            "gridcolor": "white",
            "linecolor": "white",
            "ticks": ""
           }
          },
          "scene": {
           "xaxis": {
            "backgroundcolor": "#E5ECF6",
            "gridcolor": "white",
            "gridwidth": 2,
            "linecolor": "white",
            "showbackground": true,
            "ticks": "",
            "zerolinecolor": "white"
           },
           "yaxis": {
            "backgroundcolor": "#E5ECF6",
            "gridcolor": "white",
            "gridwidth": 2,
            "linecolor": "white",
            "showbackground": true,
            "ticks": "",
            "zerolinecolor": "white"
           },
           "zaxis": {
            "backgroundcolor": "#E5ECF6",
            "gridcolor": "white",
            "gridwidth": 2,
            "linecolor": "white",
            "showbackground": true,
            "ticks": "",
            "zerolinecolor": "white"
           }
          },
          "shapedefaults": {
           "line": {
            "color": "#2a3f5f"
           }
          },
          "ternary": {
           "aaxis": {
            "gridcolor": "white",
            "linecolor": "white",
            "ticks": ""
           },
           "baxis": {
            "gridcolor": "white",
            "linecolor": "white",
            "ticks": ""
           },
           "bgcolor": "#E5ECF6",
           "caxis": {
            "gridcolor": "white",
            "linecolor": "white",
            "ticks": ""
           }
          },
          "title": {
           "x": 0.05
          },
          "xaxis": {
           "automargin": true,
           "gridcolor": "white",
           "linecolor": "white",
           "ticks": "",
           "title": {
            "standoff": 15
           },
           "zerolinecolor": "white",
           "zerolinewidth": 2
          },
          "yaxis": {
           "automargin": true,
           "gridcolor": "white",
           "linecolor": "white",
           "ticks": "",
           "title": {
            "standoff": 15
           },
           "zerolinecolor": "white",
           "zerolinewidth": 2
          }
         }
        },
        "xaxis": {
         "anchor": "y",
         "domain": [
          0,
          1
         ],
         "title": {
          "text": "pearson_corr"
         }
        },
        "yaxis": {
         "anchor": "x",
         "domain": [
          0,
          1
         ],
         "title": {
          "text": "mutual_taxonomy"
         }
        }
       }
      },
      "text/html": [
       "<div>                            <div id=\"d7185450-8e1d-4219-9d9c-5c9e9779da0b\" class=\"plotly-graph-div\" style=\"height:525px; width:100%;\"></div>            <script type=\"text/javascript\">                require([\"plotly\"], function(Plotly) {                    window.PLOTLYENV=window.PLOTLYENV || {};                                    if (document.getElementById(\"d7185450-8e1d-4219-9d9c-5c9e9779da0b\")) {                    Plotly.newPlot(                        \"d7185450-8e1d-4219-9d9c-5c9e9779da0b\",                        [{\"customdata\":[[\"1\"],[\"2\"],[\"3\"],[\"4\"],[\"5\"],[\"6\"]],\"hovertemplate\":\"num_regions=1.0<br>pearson_corr=%{x}<br>mutual_taxonomy=%{y}<br>log10_Ambiguity=%{marker.size}<br>region_combination=%{customdata[0]}<extra></extra>\",\"legendgroup\":\"1.0\",\"marker\":{\"color\":\"rgb(102,194,165)\",\"size\":15,\"sizemode\":\"area\",\"sizeref\":0.011642520051085889,\"symbol\":\"circle\",\"line\":{\"color\":\"DarkSlateGrey\",\"width\":2}},\"mode\":\"markers\",\"name\":\"1.0\",\"orientation\":\"v\",\"showlegend\":true,\"x\":[0.6566368636536299,0.7149933316269919,0.7600150874774628,0.6176146810892866,0.6105085715923209,0.7474618139271831],\"xaxis\":\"x\",\"y\":[0.2242547779225569,0.41256506756734385,0.32786928788923797,0.2999469415917051,0.2715063058324438,0.21253168445273757],\"yaxis\":\"y\",\"type\":\"scatter\"},{\"customdata\":[[\"1_2\"],[\"1_3\"],[\"1_4\"],[\"1_5\"],[\"1_6\"],[\"2_3\"],[\"2_4\"],[\"2_5\"],[\"2_6\"],[\"3_4\"],[\"3_5\"],[\"3_6\"],[\"4_5\"],[\"4_6\"],[\"5_6\"]],\"hovertemplate\":\"num_regions=2.0<br>pearson_corr=%{x}<br>mutual_taxonomy=%{y}<br>log10_Ambiguity=%{marker.size}<br>region_combination=%{customdata[0]}<extra></extra>\",\"legendgroup\":\"2.0\",\"marker\":{\"color\":\"rgb(252,141,98)\",\"size\":15,\"sizemode\":\"area\",\"sizeref\":0.011642520051085889,\"symbol\":\"circle\",\"line\":{\"color\":\"DarkSlateGrey\",\"width\":2}},\"mode\":\"markers\",\"name\":\"2.0\",\"orientation\":\"v\",\"showlegend\":true,\"x\":[0.7291486623637307,0.8987800500564913,0.810877674332028,0.9084989015320022,0.846964241380994,0.8875674288936538,0.9344945012090736,0.7902825019388384,0.847149463285897,0.8668731945067625,0.7981185447401564,0.7281598944867489,0.6688764119697685,0.84560726996849,0.801505590941438],\"xaxis\":\"x\",\"y\":[0.4530334170852031,0.428464752991081,0.4162825623423109,0.3942878402499497,0.33472958626178256,0.5286317862383,0.5393531229185622,0.5567731903370704,0.45274928813559445,0.5153461718913402,0.5167676397567724,0.4030885671512795,0.44577043870634603,0.39386768980865033,0.31944409707036914],\"yaxis\":\"y\",\"type\":\"scatter\"},{\"customdata\":[[\"1_2_3\"],[\"1_2_4\"],[\"1_2_5\"],[\"1_2_6\"],[\"1_3_4\"],[\"1_3_5\"],[\"1_3_6\"],[\"1_4_5\"],[\"1_4_6\"],[\"1_5_6\"],[\"2_3_4\"],[\"2_3_5\"],[\"2_3_6\"],[\"2_4_5\"],[\"2_4_6\"],[\"2_5_6\"],[\"3_4_5\"],[\"3_4_6\"],[\"3_5_6\"],[\"4_5_6\"]],\"hovertemplate\":\"num_regions=3.0<br>pearson_corr=%{x}<br>mutual_taxonomy=%{y}<br>log10_Ambiguity=%{marker.size}<br>region_combination=%{customdata[0]}<extra></extra>\",\"legendgroup\":\"3.0\",\"marker\":{\"color\":\"rgb(141,160,203)\",\"size\":15,\"sizemode\":\"area\",\"sizeref\":0.011642520051085889,\"symbol\":\"circle\",\"line\":{\"color\":\"DarkSlateGrey\",\"width\":2}},\"mode\":\"markers\",\"name\":\"3.0\",\"orientation\":\"v\",\"showlegend\":true,\"x\":[0.9181540017606383,0.6855722085453534,0.850499990781922,0.8900341169067114,0.9565480205897312,0.9237693586675003,0.9080006359809638,0.7921026160875645,0.9265525378442903,0.9121622749591354,0.9399432202702256,0.9072297626837821,0.8559060043146367,0.921425804312181,0.8544088922284216,0.8637329503107247,0.9270800926733204,0.8299019468679963,0.7836671097358023,0.8673267415418834],\"xaxis\":\"x\",\"y\":[0.5718941546790507,0.5834457043163991,0.5945619280346665,0.5042815000826024,0.5838136852072124,0.5678803008165879,0.48926551992265943,0.5587360128527112,0.48497576071002024,0.434741621097755,0.6422152867718323,0.7214916596028055,0.5818018021016286,0.6746403162627054,0.5951056080818766,0.589088959840466,0.7327112409274262,0.5798265365150392,0.5473613467399117,0.5201041151654615],\"yaxis\":\"y\",\"type\":\"scatter\"},{\"customdata\":[[\"1_2_3_4\"],[\"1_2_3_5\"],[\"1_2_3_6\"],[\"1_2_4_5\"],[\"1_2_4_6\"],[\"1_2_5_6\"],[\"1_3_4_5\"],[\"1_3_4_6\"],[\"1_3_5_6\"],[\"1_4_5_6\"],[\"2_3_4_5\"],[\"2_3_4_6\"],[\"2_3_5_6\"],[\"2_4_5_6\"],[\"3_4_5_6\"]],\"hovertemplate\":\"num_regions=4.0<br>pearson_corr=%{x}<br>mutual_taxonomy=%{y}<br>log10_Ambiguity=%{marker.size}<br>region_combination=%{customdata[0]}<extra></extra>\",\"legendgroup\":\"4.0\",\"marker\":{\"color\":\"rgb(231,138,195)\",\"size\":15,\"sizemode\":\"area\",\"sizeref\":0.011642520051085889,\"symbol\":\"circle\",\"line\":{\"color\":\"DarkSlateGrey\",\"width\":2}},\"mode\":\"markers\",\"name\":\"4.0\",\"orientation\":\"v\",\"showlegend\":true,\"x\":[0.9695753020630328,0.9590157019102439,0.9372809953686358,0.9774543346446025,0.9584973488902846,0.9566318945875192,0.9790851878707333,0.9613940452146663,0.9351788606974858,0.9541500722859092,0.9257885156081029,0.879213388996299,0.865423103871574,0.8805677015502253,0.864559222469681],\"xaxis\":\"x\",\"y\":[0.7071632350156352,0.767877226391486,0.6346511405629768,0.7303314324919619,0.6594011784561932,0.6370663915607487,0.7868627937745731,0.6498454284550086,0.6176663057538335,0.5946325044605372,0.881210073736053,0.7217609723371976,0.743119154829566,0.7111925884832084,0.7511929573760041],\"yaxis\":\"y\",\"type\":\"scatter\"},{\"customdata\":[[\"1_2_3_4_5\"],[\"1_2_3_4_6\"],[\"1_2_3_5_6\"],[\"1_2_4_5_6\"],[\"1_3_4_5_6\"],[\"2_3_4_5_6\"]],\"hovertemplate\":\"num_regions=5.0<br>pearson_corr=%{x}<br>mutual_taxonomy=%{y}<br>log10_Ambiguity=%{marker.size}<br>region_combination=%{customdata[0]}<extra></extra>\",\"legendgroup\":\"5.0\",\"marker\":{\"color\":\"rgb(166,216,84)\",\"size\":15,\"sizemode\":\"area\",\"sizeref\":0.011642520051085889,\"symbol\":\"circle\",\"line\":{\"color\":\"DarkSlateGrey\",\"width\":2}},\"mode\":\"markers\",\"name\":\"5.0\",\"orientation\":\"v\",\"showlegend\":true,\"x\":[0.9907667946060824,0.9828253882000544,0.9664217121488403,0.9881322639655593,0.9585287288327278,0.900009511078329],\"xaxis\":\"x\",\"y\":[0.9233929467173736,0.7878099390156986,0.7998676452629996,0.7831066457755821,0.8480519813899275,0.9297912177632881],\"yaxis\":\"y\",\"type\":\"scatter\"},{\"customdata\":[[\"1_2_3_4_5_6\"]],\"hovertemplate\":\"num_regions=6.0<br>pearson_corr=%{x}<br>mutual_taxonomy=%{y}<br>log10_Ambiguity=%{marker.size}<br>region_combination=%{customdata[0]}<extra></extra>\",\"legendgroup\":\"6.0\",\"marker\":{\"color\":\"rgb(255,217,47)\",\"size\":15,\"sizemode\":\"area\",\"sizeref\":0.011642520051085889,\"symbol\":\"circle\",\"line\":{\"color\":\"DarkSlateGrey\",\"width\":2}},\"mode\":\"markers\",\"name\":\"6.0\",\"orientation\":\"v\",\"showlegend\":true,\"x\":[1.0],\"xaxis\":\"x\",\"y\":[1.0],\"yaxis\":\"y\",\"type\":\"scatter\"}],                        {\"template\":{\"data\":{\"histogram2dcontour\":[{\"type\":\"histogram2dcontour\",\"colorbar\":{\"outlinewidth\":0,\"ticks\":\"\"},\"colorscale\":[[0.0,\"#0d0887\"],[0.1111111111111111,\"#46039f\"],[0.2222222222222222,\"#7201a8\"],[0.3333333333333333,\"#9c179e\"],[0.4444444444444444,\"#bd3786\"],[0.5555555555555556,\"#d8576b\"],[0.6666666666666666,\"#ed7953\"],[0.7777777777777778,\"#fb9f3a\"],[0.8888888888888888,\"#fdca26\"],[1.0,\"#f0f921\"]]}],\"choropleth\":[{\"type\":\"choropleth\",\"colorbar\":{\"outlinewidth\":0,\"ticks\":\"\"}}],\"histogram2d\":[{\"type\":\"histogram2d\",\"colorbar\":{\"outlinewidth\":0,\"ticks\":\"\"},\"colorscale\":[[0.0,\"#0d0887\"],[0.1111111111111111,\"#46039f\"],[0.2222222222222222,\"#7201a8\"],[0.3333333333333333,\"#9c179e\"],[0.4444444444444444,\"#bd3786\"],[0.5555555555555556,\"#d8576b\"],[0.6666666666666666,\"#ed7953\"],[0.7777777777777778,\"#fb9f3a\"],[0.8888888888888888,\"#fdca26\"],[1.0,\"#f0f921\"]]}],\"heatmap\":[{\"type\":\"heatmap\",\"colorbar\":{\"outlinewidth\":0,\"ticks\":\"\"},\"colorscale\":[[0.0,\"#0d0887\"],[0.1111111111111111,\"#46039f\"],[0.2222222222222222,\"#7201a8\"],[0.3333333333333333,\"#9c179e\"],[0.4444444444444444,\"#bd3786\"],[0.5555555555555556,\"#d8576b\"],[0.6666666666666666,\"#ed7953\"],[0.7777777777777778,\"#fb9f3a\"],[0.8888888888888888,\"#fdca26\"],[1.0,\"#f0f921\"]]}],\"heatmapgl\":[{\"type\":\"heatmapgl\",\"colorbar\":{\"outlinewidth\":0,\"ticks\":\"\"},\"colorscale\":[[0.0,\"#0d0887\"],[0.1111111111111111,\"#46039f\"],[0.2222222222222222,\"#7201a8\"],[0.3333333333333333,\"#9c179e\"],[0.4444444444444444,\"#bd3786\"],[0.5555555555555556,\"#d8576b\"],[0.6666666666666666,\"#ed7953\"],[0.7777777777777778,\"#fb9f3a\"],[0.8888888888888888,\"#fdca26\"],[1.0,\"#f0f921\"]]}],\"contourcarpet\":[{\"type\":\"contourcarpet\",\"colorbar\":{\"outlinewidth\":0,\"ticks\":\"\"}}],\"contour\":[{\"type\":\"contour\",\"colorbar\":{\"outlinewidth\":0,\"ticks\":\"\"},\"colorscale\":[[0.0,\"#0d0887\"],[0.1111111111111111,\"#46039f\"],[0.2222222222222222,\"#7201a8\"],[0.3333333333333333,\"#9c179e\"],[0.4444444444444444,\"#bd3786\"],[0.5555555555555556,\"#d8576b\"],[0.6666666666666666,\"#ed7953\"],[0.7777777777777778,\"#fb9f3a\"],[0.8888888888888888,\"#fdca26\"],[1.0,\"#f0f921\"]]}],\"surface\":[{\"type\":\"surface\",\"colorbar\":{\"outlinewidth\":0,\"ticks\":\"\"},\"colorscale\":[[0.0,\"#0d0887\"],[0.1111111111111111,\"#46039f\"],[0.2222222222222222,\"#7201a8\"],[0.3333333333333333,\"#9c179e\"],[0.4444444444444444,\"#bd3786\"],[0.5555555555555556,\"#d8576b\"],[0.6666666666666666,\"#ed7953\"],[0.7777777777777778,\"#fb9f3a\"],[0.8888888888888888,\"#fdca26\"],[1.0,\"#f0f921\"]]}],\"mesh3d\":[{\"type\":\"mesh3d\",\"colorbar\":{\"outlinewidth\":0,\"ticks\":\"\"}}],\"scatter\":[{\"fillpattern\":{\"fillmode\":\"overlay\",\"size\":10,\"solidity\":0.2},\"type\":\"scatter\"}],\"parcoords\":[{\"type\":\"parcoords\",\"line\":{\"colorbar\":{\"outlinewidth\":0,\"ticks\":\"\"}}}],\"scatterpolargl\":[{\"type\":\"scatterpolargl\",\"marker\":{\"colorbar\":{\"outlinewidth\":0,\"ticks\":\"\"}}}],\"bar\":[{\"error_x\":{\"color\":\"#2a3f5f\"},\"error_y\":{\"color\":\"#2a3f5f\"},\"marker\":{\"line\":{\"color\":\"#E5ECF6\",\"width\":0.5},\"pattern\":{\"fillmode\":\"overlay\",\"size\":10,\"solidity\":0.2}},\"type\":\"bar\"}],\"scattergeo\":[{\"type\":\"scattergeo\",\"marker\":{\"colorbar\":{\"outlinewidth\":0,\"ticks\":\"\"}}}],\"scatterpolar\":[{\"type\":\"scatterpolar\",\"marker\":{\"colorbar\":{\"outlinewidth\":0,\"ticks\":\"\"}}}],\"histogram\":[{\"marker\":{\"pattern\":{\"fillmode\":\"overlay\",\"size\":10,\"solidity\":0.2}},\"type\":\"histogram\"}],\"scattergl\":[{\"type\":\"scattergl\",\"marker\":{\"colorbar\":{\"outlinewidth\":0,\"ticks\":\"\"}}}],\"scatter3d\":[{\"type\":\"scatter3d\",\"line\":{\"colorbar\":{\"outlinewidth\":0,\"ticks\":\"\"}},\"marker\":{\"colorbar\":{\"outlinewidth\":0,\"ticks\":\"\"}}}],\"scattermapbox\":[{\"type\":\"scattermapbox\",\"marker\":{\"colorbar\":{\"outlinewidth\":0,\"ticks\":\"\"}}}],\"scatterternary\":[{\"type\":\"scatterternary\",\"marker\":{\"colorbar\":{\"outlinewidth\":0,\"ticks\":\"\"}}}],\"scattercarpet\":[{\"type\":\"scattercarpet\",\"marker\":{\"colorbar\":{\"outlinewidth\":0,\"ticks\":\"\"}}}],\"carpet\":[{\"aaxis\":{\"endlinecolor\":\"#2a3f5f\",\"gridcolor\":\"white\",\"linecolor\":\"white\",\"minorgridcolor\":\"white\",\"startlinecolor\":\"#2a3f5f\"},\"baxis\":{\"endlinecolor\":\"#2a3f5f\",\"gridcolor\":\"white\",\"linecolor\":\"white\",\"minorgridcolor\":\"white\",\"startlinecolor\":\"#2a3f5f\"},\"type\":\"carpet\"}],\"table\":[{\"cells\":{\"fill\":{\"color\":\"#EBF0F8\"},\"line\":{\"color\":\"white\"}},\"header\":{\"fill\":{\"color\":\"#C8D4E3\"},\"line\":{\"color\":\"white\"}},\"type\":\"table\"}],\"barpolar\":[{\"marker\":{\"line\":{\"color\":\"#E5ECF6\",\"width\":0.5},\"pattern\":{\"fillmode\":\"overlay\",\"size\":10,\"solidity\":0.2}},\"type\":\"barpolar\"}],\"pie\":[{\"automargin\":true,\"type\":\"pie\"}]},\"layout\":{\"autotypenumbers\":\"strict\",\"colorway\":[\"#636efa\",\"#EF553B\",\"#00cc96\",\"#ab63fa\",\"#FFA15A\",\"#19d3f3\",\"#FF6692\",\"#B6E880\",\"#FF97FF\",\"#FECB52\"],\"font\":{\"color\":\"#2a3f5f\"},\"hovermode\":\"closest\",\"hoverlabel\":{\"align\":\"left\"},\"paper_bgcolor\":\"white\",\"plot_bgcolor\":\"#E5ECF6\",\"polar\":{\"bgcolor\":\"#E5ECF6\",\"angularaxis\":{\"gridcolor\":\"white\",\"linecolor\":\"white\",\"ticks\":\"\"},\"radialaxis\":{\"gridcolor\":\"white\",\"linecolor\":\"white\",\"ticks\":\"\"}},\"ternary\":{\"bgcolor\":\"#E5ECF6\",\"aaxis\":{\"gridcolor\":\"white\",\"linecolor\":\"white\",\"ticks\":\"\"},\"baxis\":{\"gridcolor\":\"white\",\"linecolor\":\"white\",\"ticks\":\"\"},\"caxis\":{\"gridcolor\":\"white\",\"linecolor\":\"white\",\"ticks\":\"\"}},\"coloraxis\":{\"colorbar\":{\"outlinewidth\":0,\"ticks\":\"\"}},\"colorscale\":{\"sequential\":[[0.0,\"#0d0887\"],[0.1111111111111111,\"#46039f\"],[0.2222222222222222,\"#7201a8\"],[0.3333333333333333,\"#9c179e\"],[0.4444444444444444,\"#bd3786\"],[0.5555555555555556,\"#d8576b\"],[0.6666666666666666,\"#ed7953\"],[0.7777777777777778,\"#fb9f3a\"],[0.8888888888888888,\"#fdca26\"],[1.0,\"#f0f921\"]],\"sequentialminus\":[[0.0,\"#0d0887\"],[0.1111111111111111,\"#46039f\"],[0.2222222222222222,\"#7201a8\"],[0.3333333333333333,\"#9c179e\"],[0.4444444444444444,\"#bd3786\"],[0.5555555555555556,\"#d8576b\"],[0.6666666666666666,\"#ed7953\"],[0.7777777777777778,\"#fb9f3a\"],[0.8888888888888888,\"#fdca26\"],[1.0,\"#f0f921\"]],\"diverging\":[[0,\"#8e0152\"],[0.1,\"#c51b7d\"],[0.2,\"#de77ae\"],[0.3,\"#f1b6da\"],[0.4,\"#fde0ef\"],[0.5,\"#f7f7f7\"],[0.6,\"#e6f5d0\"],[0.7,\"#b8e186\"],[0.8,\"#7fbc41\"],[0.9,\"#4d9221\"],[1,\"#276419\"]]},\"xaxis\":{\"gridcolor\":\"white\",\"linecolor\":\"white\",\"ticks\":\"\",\"title\":{\"standoff\":15},\"zerolinecolor\":\"white\",\"automargin\":true,\"zerolinewidth\":2},\"yaxis\":{\"gridcolor\":\"white\",\"linecolor\":\"white\",\"ticks\":\"\",\"title\":{\"standoff\":15},\"zerolinecolor\":\"white\",\"automargin\":true,\"zerolinewidth\":2},\"scene\":{\"xaxis\":{\"backgroundcolor\":\"#E5ECF6\",\"gridcolor\":\"white\",\"linecolor\":\"white\",\"showbackground\":true,\"ticks\":\"\",\"zerolinecolor\":\"white\",\"gridwidth\":2},\"yaxis\":{\"backgroundcolor\":\"#E5ECF6\",\"gridcolor\":\"white\",\"linecolor\":\"white\",\"showbackground\":true,\"ticks\":\"\",\"zerolinecolor\":\"white\",\"gridwidth\":2},\"zaxis\":{\"backgroundcolor\":\"#E5ECF6\",\"gridcolor\":\"white\",\"linecolor\":\"white\",\"showbackground\":true,\"ticks\":\"\",\"zerolinecolor\":\"white\",\"gridwidth\":2}},\"shapedefaults\":{\"line\":{\"color\":\"#2a3f5f\"}},\"annotationdefaults\":{\"arrowcolor\":\"#2a3f5f\",\"arrowhead\":0,\"arrowwidth\":1},\"geo\":{\"bgcolor\":\"white\",\"landcolor\":\"#E5ECF6\",\"subunitcolor\":\"white\",\"showland\":true,\"showlakes\":true,\"lakecolor\":\"white\"},\"title\":{\"x\":0.05},\"mapbox\":{\"style\":\"light\"}}},\"xaxis\":{\"anchor\":\"y\",\"domain\":[0.0,1.0],\"title\":{\"text\":\"pearson_corr\"}},\"yaxis\":{\"anchor\":\"x\",\"domain\":[0.0,1.0],\"title\":{\"text\":\"mutual_taxonomy\"}},\"legend\":{\"title\":{\"text\":\"num_regions\"},\"tracegroupgap\":0,\"itemsizing\":\"constant\"},\"margin\":{\"t\":60}},                        {\"responsive\": true}                    ).then(function(){\n",
       "                            \n",
       "var gd = document.getElementById('d7185450-8e1d-4219-9d9c-5c9e9779da0b');\n",
       "var x = new MutationObserver(function (mutations, observer) {{\n",
       "        var display = window.getComputedStyle(gd).display;\n",
       "        if (!display || display === 'none') {{\n",
       "            console.log([gd, 'removed!']);\n",
       "            Plotly.purge(gd);\n",
       "            observer.disconnect();\n",
       "        }}\n",
       "}});\n",
       "\n",
       "// Listen for the removal of the full notebook cells\n",
       "var notebookContainer = gd.closest('#notebook-container');\n",
       "if (notebookContainer) {{\n",
       "    x.observe(notebookContainer, {childList: true});\n",
       "}}\n",
       "\n",
       "// Listen for the clearing of the current output cell\n",
       "var outputEl = gd.closest('.output');\n",
       "if (outputEl) {{\n",
       "    x.observe(outputEl, {childList: true});\n",
       "}}\n",
       "\n",
       "                        })                };                });            </script>        </div>"
      ]
     },
     "metadata": {},
     "output_type": "display_data"
    }
   ],
   "source": [
    "import plotly.express as px\n",
    "\n",
    "# Specify the color sequence for discrete colors\n",
    "color_discrete_sequence = px.colors.qualitative.Set2\n",
    "\n",
    "# Create an interactive scatter plot\n",
    "fig = px.scatter(df_comb, x='pearson_corr', y='mutual_taxonomy', \n",
    "                 color='num_regions', size = 'log10_Ambiguity', \n",
    "                 hover_data=[df_comb.index], \n",
    "                 color_discrete_sequence=color_discrete_sequence)\n",
    "\n",
    "# Increase marker size\n",
    "fig.update_traces(marker=dict(size=15, line=dict(width=2, color='DarkSlateGrey')))\n",
    "\n",
    "# Show the plot\n",
    "fig.show()\n"
   ]
  },
  {
   "cell_type": "code",
   "execution_count": 33,
   "id": "c4d3521b",
   "metadata": {},
   "outputs": [],
   "source": []
  },
  {
   "cell_type": "code",
   "execution_count": null,
   "id": "73349170",
   "metadata": {},
   "outputs": [],
   "source": []
  }
 ],
 "metadata": {
  "kernelspec": {
   "display_name": "Python 3 (ipykernel)",
   "language": "python",
   "name": "python3"
  },
  "language_info": {
   "codemirror_mode": {
    "name": "ipython",
    "version": 3
   },
   "file_extension": ".py",
   "mimetype": "text/x-python",
   "name": "python",
   "nbconvert_exporter": "python",
   "pygments_lexer": "ipython3",
   "version": "3.9.15"
  }
 },
 "nbformat": 4,
 "nbformat_minor": 5
}
